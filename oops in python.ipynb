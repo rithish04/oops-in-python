{
 "cells": [
  {
   "cell_type": "markdown",
   "id": "010740f8",
   "metadata": {},
   "source": [
    "# oops in python"
   ]
  },
  {
   "cell_type": "code",
   "execution_count": 1,
   "id": "fbedd3b4",
   "metadata": {},
   "outputs": [
    {
     "data": {
      "text/plain": [
       "__main__.car"
      ]
     },
     "execution_count": 1,
     "metadata": {},
     "output_type": "execute_result"
    }
   ],
   "source": [
    "#class\n",
    "class car:\n",
    "    pass\n",
    "car1 = car()\n",
    "car"
   ]
  },
  {
   "cell_type": "code",
   "execution_count": 3,
   "id": "2cae8837",
   "metadata": {},
   "outputs": [
    {
     "name": "stdout",
     "output_type": "stream",
     "text": [
      "5\n"
     ]
    }
   ],
   "source": [
    "car1.window = 5\n",
    "car1.door = 4\n",
    "print(car1.window)"
   ]
  },
  {
   "cell_type": "code",
   "execution_count": 4,
   "id": "604134aa",
   "metadata": {},
   "outputs": [
    {
     "data": {
      "text/plain": [
       "['__class__',\n",
       " '__delattr__',\n",
       " '__dict__',\n",
       " '__dir__',\n",
       " '__doc__',\n",
       " '__eq__',\n",
       " '__format__',\n",
       " '__ge__',\n",
       " '__getattribute__',\n",
       " '__getstate__',\n",
       " '__gt__',\n",
       " '__hash__',\n",
       " '__init__',\n",
       " '__init_subclass__',\n",
       " '__le__',\n",
       " '__lt__',\n",
       " '__module__',\n",
       " '__ne__',\n",
       " '__new__',\n",
       " '__reduce__',\n",
       " '__reduce_ex__',\n",
       " '__repr__',\n",
       " '__setattr__',\n",
       " '__sizeof__',\n",
       " '__str__',\n",
       " '__subclasshook__',\n",
       " '__weakref__',\n",
       " 'door',\n",
       " 'doors',\n",
       " 'window']"
      ]
     },
     "execution_count": 4,
     "metadata": {},
     "output_type": "execute_result"
    }
   ],
   "source": [
    "dir(car1)"
   ]
  },
  {
   "cell_type": "code",
   "execution_count": 6,
   "id": "6eda627d",
   "metadata": {},
   "outputs": [
    {
     "name": "stdout",
     "output_type": "stream",
     "text": [
      "5\n",
      "4\n"
     ]
    }
   ],
   "source": [
    "class car:\n",
    "    def __init__(self,window,door):\n",
    "        self.window = window\n",
    "        self.door = door\n",
    "csr1 = car(2,4)\n",
    "print(car1.window)\n",
    "print(car1.door)"
   ]
  },
  {
   "cell_type": "code",
   "execution_count": 7,
   "id": "bd9f8f1f",
   "metadata": {},
   "outputs": [
    {
     "name": "stdout",
     "output_type": "stream",
     "text": [
      "there is an error\n"
     ]
    }
   ],
   "source": [
    "#python exception handling\n",
    "try:\n",
    "    a=b\n",
    "except:\n",
    "    print(\"there is an error\")"
   ]
  },
  {
   "cell_type": "code",
   "execution_count": 11,
   "id": "499cb3a2",
   "metadata": {},
   "outputs": [
    {
     "name": "stdout",
     "output_type": "stream",
     "text": [
      "name 'b' is not defined\n"
     ]
    }
   ],
   "source": [
    "#to know what error\n",
    "try:\n",
    "    a = b\n",
    "except Exception as ex:\n",
    "    print(ex)\n",
    "except NameError:\n",
    "    print(\"The user not defined\")"
   ]
  },
  {
   "cell_type": "code",
   "execution_count": 14,
   "id": "da5d6068",
   "metadata": {},
   "outputs": [
    {
     "name": "stdout",
     "output_type": "stream",
     "text": [
      "enter a num:10\n",
      "enter a num:20\n",
      "0.5\n",
      "The execution is done\n"
     ]
    }
   ],
   "source": [
    "try:\n",
    "    a = int(input(\"enter a num:\"))\n",
    "    b = int(input(\"enter a num:\"))\n",
    "    c = a/b\n",
    "except NameError:\n",
    "    print(\"user not defined variable\")\n",
    "except ZeroDivisionError:\n",
    "    print(\"provide greater num\")\n",
    "except Exception as ex:\n",
    "    print(ex)\n",
    "else:\n",
    "    print(c)\n",
    "finally:\n",
    "    print(\"The execution is done\")"
   ]
  },
  {
   "cell_type": "code",
   "execution_count": 18,
   "id": "a34c2120",
   "metadata": {},
   "outputs": [
    {
     "name": "stdout",
     "output_type": "stream",
     "text": [
      "Enter the year of birth:2002\n",
      "age is not within range\n"
     ]
    }
   ],
   "source": [
    "#custom exception\n",
    "class Error(Exception):\n",
    "    pass\n",
    "class jobException(Error):\n",
    "    pass\n",
    "year = int(input(\"Enter the year of birth:\"))\n",
    "age = 2023-year\n",
    "try:\n",
    "    if age<= 30 & age>20:\n",
    "        print(\"The age is valid\")\n",
    "    else:\n",
    "        raise jobException\n",
    "except jobException:\n",
    "    print(\"age is not within range\")"
   ]
  },
  {
   "cell_type": "code",
   "execution_count": 25,
   "id": "b56fcfa7",
   "metadata": {},
   "outputs": [
    {
     "data": {
      "text/plain": [
       "<__main__.car at 0x29c97f92dd0>"
      ]
     },
     "execution_count": 25,
     "metadata": {},
     "output_type": "execute_result"
    }
   ],
   "source": [
    "#private,public and protected\n",
    "#public\n",
    "class car():\n",
    "    def __init__(self,windows,doors,enginetype):\n",
    "        self.windows = windows\n",
    "        self.doors = doors\n",
    "        self.enginetype=enginetype\n",
    "audi = car(2,4,\"petrol\")\n",
    "audi\n"
   ]
  },
  {
   "cell_type": "code",
   "execution_count": 27,
   "id": "0534bc3e",
   "metadata": {},
   "outputs": [
    {
     "data": {
      "text/plain": [
       "['__class__',\n",
       " '__delattr__',\n",
       " '__dict__',\n",
       " '__dir__',\n",
       " '__doc__',\n",
       " '__eq__',\n",
       " '__format__',\n",
       " '__ge__',\n",
       " '__getattribute__',\n",
       " '__getstate__',\n",
       " '__gt__',\n",
       " '__hash__',\n",
       " '__init__',\n",
       " '__init_subclass__',\n",
       " '__le__',\n",
       " '__lt__',\n",
       " '__module__',\n",
       " '__ne__',\n",
       " '__new__',\n",
       " '__reduce__',\n",
       " '__reduce_ex__',\n",
       " '__repr__',\n",
       " '__setattr__',\n",
       " '__sizeof__',\n",
       " '__str__',\n",
       " '__subclasshook__',\n",
       " '__weakref__',\n",
       " 'doors',\n",
       " 'enginetype',\n",
       " 'windows']"
      ]
     },
     "execution_count": 27,
     "metadata": {},
     "output_type": "execute_result"
    }
   ],
   "source": [
    "dir(audi)"
   ]
  },
  {
   "cell_type": "code",
   "execution_count": 29,
   "id": "0eb4c982",
   "metadata": {},
   "outputs": [
    {
     "data": {
      "text/plain": [
       "<__main__.car at 0x29c970d0990>"
      ]
     },
     "execution_count": 29,
     "metadata": {},
     "output_type": "execute_result"
    }
   ],
   "source": [
    "#protected\n",
    "class car():\n",
    "    def __init__(self,windows,doors,enginetype):\n",
    "        self._windows = windows\n",
    "        self._doors = doors\n",
    "        self._enginetype=enginetype\n",
    "audi = car(2,4,\"petrol\")\n",
    "audi\n"
   ]
  },
  {
   "cell_type": "code",
   "execution_count": null,
   "id": "1c7b602c",
   "metadata": {},
   "outputs": [],
   "source": [
    "#private\n",
    "class car():\n",
    "    def __init__(self,windows,doors,enginetype):\n",
    "        self.__windows = windows\n",
    "        self.__doors = doors\n",
    "        self.__enginetype=enginetype\n",
    "audi = car(2,4,\"petrol\")\n",
    "audi\n"
   ]
  },
  {
   "cell_type": "code",
   "execution_count": 2,
   "id": "89a9a072",
   "metadata": {},
   "outputs": [],
   "source": [
    "class car():\n",
    "    def __init__(self,window,door,enginetype):\n",
    "        self.window=window\n",
    "        self.door=door\n",
    "        self.enginetype=enginetype\n",
    "    def drive(self):\n",
    "        print(\"The person drives the car\")"
   ]
  },
  {
   "cell_type": "code",
   "execution_count": 3,
   "id": "ee438833",
   "metadata": {},
   "outputs": [],
   "source": [
    "car = car(4,5,\"petrol\")"
   ]
  },
  {
   "cell_type": "code",
   "execution_count": 4,
   "id": "377e3b78",
   "metadata": {},
   "outputs": [
    {
     "name": "stdout",
     "output_type": "stream",
     "text": [
      "The person drives the car\n"
     ]
    }
   ],
   "source": [
    "car.drive()"
   ]
  },
  {
   "cell_type": "code",
   "execution_count": 42,
   "id": "f92d4655",
   "metadata": {},
   "outputs": [
    {
     "data": {
      "text/plain": [
       "True"
      ]
     },
     "execution_count": 42,
     "metadata": {},
     "output_type": "execute_result"
    }
   ],
   "source": [
    "#inheritance in oops\n",
    "class audi(car):\n",
    "    def __init__(self,window,door,enginetype,enableai):\n",
    "        super().__init__(window,door,enginetype)\n",
    "        self.enableai = enableai\n",
    "    def selfdriving(Self):\n",
    "        print(\"audi support selfdriving\")\n",
    "audiq7 = audi(5,5,\"petrol\",True)\n",
    "audiq7.enableai\n"
   ]
  },
  {
   "cell_type": "code",
   "execution_count": 38,
   "id": "51720ce8",
   "metadata": {},
   "outputs": [
    {
     "ename": "AttributeError",
     "evalue": "'audi' object has no attribute 'window'",
     "output_type": "error",
     "traceback": [
      "\u001b[1;31m---------------------------------------------------------------------------\u001b[0m",
      "\u001b[1;31mAttributeError\u001b[0m                            Traceback (most recent call last)",
      "Cell \u001b[1;32mIn[38], line 1\u001b[0m\n\u001b[1;32m----> 1\u001b[0m audiq7\u001b[38;5;241m.\u001b[39mwindow()\n",
      "\u001b[1;31mAttributeError\u001b[0m: 'audi' object has no attribute 'window'"
     ]
    }
   ],
   "source": []
  }
 ],
 "metadata": {
  "kernelspec": {
   "display_name": "Python 3 (ipykernel)",
   "language": "python",
   "name": "python3"
  },
  "language_info": {
   "codemirror_mode": {
    "name": "ipython",
    "version": 3
   },
   "file_extension": ".py",
   "mimetype": "text/x-python",
   "name": "python",
   "nbconvert_exporter": "python",
   "pygments_lexer": "ipython3",
   "version": "3.11.5"
  }
 },
 "nbformat": 4,
 "nbformat_minor": 5
}
